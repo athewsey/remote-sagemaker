{
 "cells": [
  {
   "cell_type": "markdown",
   "id": "psychological-stability",
   "metadata": {},
   "source": [
    "# Running SageMaker Studio Terminal Commands Remotely via API\n",
    "\n",
    "This notebook demonstrates use of the [JupyterServer API](https://github.com/jupyter/jupyter/wiki/Jupyter-Notebook-Server-API#Kernel-API) and the [Jupyter Client (websocket) API](https://jupyter-client.readthedocs.io/en/latest/messaging.html) to remotely run commands on the *system terminal* in SageMaker Studio.\n",
    "\n",
    "It's presented as a notebook to give more space for commentary, and because I used a SageMaker Notebook Instance in the same AWS region to test it out 😁 ...But you could re-purpose the same code in some other environment (like a Lambda function) to run whatever automations you need.\n",
    "\n",
    "The main constraint is that your execution environment **needs IAM permission** `sagemaker:CreatePresignedDomainUrl` on the target `DomainId` and `UserProfileName` - which lets this script **log in as the SageMaker Studio user** to run the commands."
   ]
  },
  {
   "cell_type": "code",
   "execution_count": 1,
   "id": "animal-garlic",
   "metadata": {},
   "outputs": [],
   "source": [
    "# Python Built-Ins:\n",
    "import asyncio\n",
    "from datetime import datetime\n",
    "import json\n",
    "import re\n",
    "import time\n",
    "import uuid\n",
    "\n",
    "# External Dependencies:\n",
    "import boto3\n",
    "import requests\n",
    "import websocket\n",
    "\n",
    "smclient = boto3.client(\"sagemaker\")"
   ]
  },
  {
   "cell_type": "markdown",
   "id": "refined-music",
   "metadata": {},
   "source": [
    "## Log in\n",
    "\n",
    "For access to the APIs, we'll need to:\n",
    "\n",
    "- Generate the initial presigned login URL via SageMaker API\n",
    "- Open a `requests.session` to persist the headers/cookies/etc that get set when we first open the URL and then make requests\n",
    "- Remember to set the required **cross-site request forgery protection token** from cookies, on update request types like `POST`, `DELETE`, etc (if you're not familiar with this CSRF/XSRF protection mechanism, you can read more [here](https://en.wikipedia.org/wiki/Cross-site_request_forgery#Cookie-to-header_token))"
   ]
  },
  {
   "cell_type": "code",
   "execution_count": 2,
   "id": "civil-cleaners",
   "metadata": {},
   "outputs": [
    {
     "name": "stdout",
     "output_type": "stream",
     "text": [
      "https://d-ngfhxewhrmqe.studio.ap-southeast-1.sagemaker.aws/jupyter/default\n"
     ]
    }
   ],
   "source": [
    "# Generate the presigned URL which facilitates login:\n",
    "presigned_resp = smclient.create_presigned_domain_url(\n",
    "    DomainId=\"d-ngfhxewhrmqe\",\n",
    "    UserProfileName=\"baseuser\",\n",
    ")\n",
    "\n",
    "# Login like https://d-....studio.{AWSRegion}.sagemaker.aws/auth?token=...\n",
    "login_url = presigned_resp[\"AuthorizedUrl\"]\n",
    "# API relative to https://d-....studio.{AWSRegion}.sagemaker.aws/jupyter/default\n",
    "api_base_url = login_url.partition(\"?\")[0].rpartition(\"/\")[0] + \"/jupyter/default\"\n",
    "print(api_base_url)"
   ]
  },
  {
   "cell_type": "code",
   "execution_count": 3,
   "id": "covered-circus",
   "metadata": {},
   "outputs": [
    {
     "name": "stdout",
     "output_type": "stream",
     "text": [
      "<Response [200]>\n"
     ]
    }
   ],
   "source": [
    "# Create an HTTP session (for cookie/header memory) and use it to log in:\n",
    "reqsess = requests.Session()\n",
    "login_resp = reqsess.get(presigned_resp[\"AuthorizedUrl\"])\n",
    "print(login_resp)\n",
    "\n",
    "# (See login_resp.headers and login_resp.text (the loading page HTML) for more details)"
   ]
  },
  {
   "cell_type": "code",
   "execution_count": 4,
   "id": "otherwise-supplier",
   "metadata": {},
   "outputs": [],
   "source": [
    "# TODO: Need to wait here if the JupyterServer 'default' app is not ready?"
   ]
  },
  {
   "cell_type": "markdown",
   "id": "extraordinary-clinton",
   "metadata": {},
   "source": [
    "## Initialise terminal session\n",
    "\n",
    "Although it's possible to see open terminals..."
   ]
  },
  {
   "cell_type": "code",
   "execution_count": 5,
   "id": "operating-ownership",
   "metadata": {},
   "outputs": [
    {
     "data": {
      "text/plain": [
       "[{'name': '1'}]"
      ]
     },
     "execution_count": 5,
     "metadata": {},
     "output_type": "execute_result"
    }
   ],
   "source": [
    "terminals = reqsess.get(f\"{api_base_url}/api/terminals\").json()\n",
    "terminals"
   ]
  },
  {
   "cell_type": "markdown",
   "id": "dirty-property",
   "metadata": {},
   "source": [
    "...automation applications will probably want to create their own terminals most of the time:"
   ]
  },
  {
   "cell_type": "code",
   "execution_count": 6,
   "id": "honest-apparel",
   "metadata": {},
   "outputs": [
    {
     "name": "stdout",
     "output_type": "stream",
     "text": [
      "Creating terminal...\n",
      "\n",
      "<Response [200]>\n",
      "{\n",
      "  \"name\": \"2\"\n",
      "}\n"
     ]
    }
   ],
   "source": [
    "print(f\"Creating terminal...\\n\")\n",
    "terminal_resp = reqsess.post(\n",
    "    f\"{api_base_url}/api/terminals\",\n",
    "    params={ \"_xsrf\": reqsess.cookies[\"_xsrf\"] },  # Seems like this can be put in either header or query\n",
    ")\n",
    "print(terminal_resp)\n",
    "terminal = terminal_resp.json()\n",
    "print(json.dumps(terminal, indent=2))"
   ]
  },
  {
   "cell_type": "markdown",
   "id": "powerful-syracuse",
   "metadata": {},
   "source": [
    "Note that unlike kernels, we don't need to separately initialise a 'session' on top of this - the terminal itself is sufficient."
   ]
  },
  {
   "cell_type": "markdown",
   "id": "tamil-melissa",
   "metadata": {},
   "source": [
    "## Run the code\n",
    "\n",
    "Actual interaction with a terminal is via WebSocket APIs, rather than REST: So we'll need to create a websocket connection, carrying over the required cookies from our REST session.\n",
    "\n",
    "The wire protocol for Jupyter terminals is simple to the point of being limiting. Messages are a 2-element list with `[stream, content]`, where stream may be e.g. `stdout`, `stderr` for output messages - or conversely `stdin` when we want to send in commands.\n",
    "\n",
    "The disadvantage of this is that we have no formal visibility of whether each command has \"finished executing\" or what its exit code was.\n",
    "\n",
    "Below, we use a regex for stdout terminal prompts (e.g. `bash-4.2$ `) to guess when the terminal is ready for the next command."
   ]
  },
  {
   "cell_type": "code",
   "execution_count": 7,
   "id": "elementary-catalog",
   "metadata": {},
   "outputs": [
    {
     "name": "stdout",
     "output_type": "stream",
     "text": [
      "Connecting to:\n",
      "wss://d-ngfhxewhrmqe.studio.ap-southeast-1.sagemaker.aws/jupyter/default/terminals/websocket/2\n",
      "Connected\n",
      "\n",
      "\u001b[?1034hbash-4.2$ {}echo 'Hi, world!'\n",
      "Hi, world!\n",
      "bash-4.2$ pwd\n",
      "/home/sagemaker-user\n",
      "bash-4.2$ \n",
      "\n",
      "Done\n"
     ]
    }
   ],
   "source": [
    "# Execution request/reply is done on websockets channels\n",
    "ws_base_url = \"wss://\" + api_base_url.partition(\"://\")[2] + \"/terminals/websocket\"\n",
    "cookies = reqsess.cookies.get_dict()\n",
    "\n",
    "print(f\"Connecting to:\\n{ws_base_url}/{terminal['name']}\")\n",
    "ws = websocket.create_connection(\n",
    "    f\"{ws_base_url}/{terminal['name']}\",\n",
    "    cookie=\"; \".join([\"%s=%s\" %(i, j) for i, j in cookies.items()]),\n",
    ")\n",
    "print(\"Connected\\n\")\n",
    "\n",
    "try:\n",
    "    # Wait for setup:\n",
    "    setup = None\n",
    "    while setup is not None:\n",
    "        res = json.loads(ws.recv())\n",
    "        print(res)\n",
    "        if res[0] == \"setup\":\n",
    "            print(f\"Got setup\")\n",
    "            setup = res[1]\n",
    "\n",
    "    # Send commands one by one, waiting for each to complete and re-show prompt:\n",
    "    code = [\"echo 'Hi, world!'\", \"pwd\"]\n",
    "    prompt_exp = re.compile(r\"\\n.*\\$ $\", re.MULTILINE)\n",
    "    for ix, c in enumerate(code):\n",
    "        ws.send(json.dumps([\"stdin\", c + \"\\n\"]))\n",
    "        # Assuming echo is on, stdin messages will be echoed to stdout anyway so no need to print\n",
    "\n",
    "        while True:\n",
    "            res = json.loads(ws.recv())\n",
    "            # res[0] is the stream so will be e.g. 'stdout', 'stderr'\n",
    "            # res[1] is the content\n",
    "            print(res[1], end=\"\")\n",
    "            if res[0] == \"stdout\" and prompt_exp.search(res[1]):\n",
    "                break\n",
    "\n",
    "    print(\"\\n\\nDone\")\n",
    "finally:\n",
    "    ws.close()"
   ]
  },
  {
   "cell_type": "markdown",
   "id": "integral-external",
   "metadata": {},
   "source": [
    "## Clean-up\n",
    "\n",
    "Just close the terminal once we're done"
   ]
  },
  {
   "cell_type": "code",
   "execution_count": 8,
   "id": "excess-distribution",
   "metadata": {},
   "outputs": [
    {
     "name": "stdout",
     "output_type": "stream",
     "text": [
      "<Response [204]>\n"
     ]
    }
   ],
   "source": [
    "terminal_del_resp = reqsess.delete(\n",
    "    f\"{api_base_url}/api/terminals/{terminal['name']}\",\n",
    "    params={ \"_xsrf\": reqsess.cookies[\"_xsrf\"] },\n",
    ")\n",
    "print(terminal_del_resp)\n",
    "terminal = None"
   ]
  },
  {
   "cell_type": "markdown",
   "id": "protected-spectacular",
   "metadata": {},
   "source": [
    "## All done!\n",
    "\n",
    "Remotely executing system terminal commands in SageMaker Studio (as permitted by the runtime environment's IAM `sagemaker:CreatePresignedDomainUrl` access) could be used to automate a range of tasks, such as:\n",
    "\n",
    "- Copying, git cloning, or updating content into the user's Studio home folder\n",
    "- Installing compatible JupyterLab extensions\n",
    "- Standardising environments for consistency or policy compliance\n",
    "- Detective security controls to detect unwanted customizations"
   ]
  }
 ],
 "metadata": {
  "kernelspec": {
   "display_name": "conda_python3",
   "language": "python",
   "name": "conda_python3"
  },
  "language_info": {
   "codemirror_mode": {
    "name": "ipython",
    "version": 3
   },
   "file_extension": ".py",
   "mimetype": "text/x-python",
   "name": "python",
   "nbconvert_exporter": "python",
   "pygments_lexer": "ipython3",
   "version": "3.6.13"
  }
 },
 "nbformat": 4,
 "nbformat_minor": 5
}
